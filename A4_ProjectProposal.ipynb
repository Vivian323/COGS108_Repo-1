{
 "cells": [
  {
   "cell_type": "markdown",
   "metadata": {},
   "source": [
    "# COGS 108 - Assignment 4: Project Proposal"
   ]
  },
  {
   "cell_type": "markdown",
   "metadata": {},
   "source": [
    "## Important\n",
    "\n",
    "- Make sure all group member (3-5 people) are listed in the group members section.\n",
    "- ONE, and only one, member of your group should upload this notebook to TritonED. \n",
    "- Each member of the group will receive the same grade on this assignment. \n",
    "- Keep the file name the same: submit the file 'A4_ProjectProposal.ipynb'"
   ]
  },
  {
   "cell_type": "markdown",
   "metadata": {},
   "source": [
    "## Overview"
   ]
  },
  {
   "cell_type": "markdown",
   "metadata": {},
   "source": [
    "Read the project description, and detailed instructions for this assignment, in the 'A4_ProjectOutlineAndProposal' pdf."
   ]
  },
  {
   "cell_type": "markdown",
   "metadata": {},
   "source": [
    "## Group Members: Fill in the Student ID's of each group member here\n",
    "- A91069152\n",
    "- A92061304\n",
    "- A14200549\n",
    "- U07543106"
   ]
  },
  {
   "cell_type": "markdown",
   "metadata": {},
   "source": [
    "### Research Question\n",
    "\n",
    "What is your research question? (1-2 sentences)"
   ]
  },
  {
   "cell_type": "markdown",
   "metadata": {},
   "source": [
    "What is the relationship between weather and preferrences in music listening in the San Diego County?"
   ]
  },
  {
   "cell_type": "markdown",
   "metadata": {},
   "source": [
    "### Hypothesis\n",
    "\n",
    "What is your prediction (2-3 sentences)"
   ]
  },
  {
   "cell_type": "markdown",
   "metadata": {},
   "source": [
    "Clear weathers tend to make people prefer {hip-pop}, while windy weather correlates to preference for {rock, jazz}, rainy weather correlates to {country, classic}"
   ]
  },
  {
   "cell_type": "markdown",
   "metadata": {},
   "source": [
    "### Dataset(s)\n",
    "\n",
    "What data will you use to answer your question? Describe the dataset in terms of number of observations, what kind of features it contains, etc. You must use at least one dataset containing at least approximately 1000 observations (if your data are smaller but you feel they are sufficient, email Prof. Voytek). You are welcome (and in fact recommended) to find multiple datasets! If you do so, describe each one, and briefly explain how you will combine them together. "
   ]
  },
  {
   "cell_type": "markdown",
   "metadata": {},
   "source": [
    "Dataset Name: UCSD HPWREN Weather Database\n",
    "\n",
    "- Link to the dataset: https://hpwren.ucsd.edu\n",
    "- Number of observations: > 3 million lines of weather measurements over the past several years. (We won't use all of that.)\n",
    "- Description: (From the HPWREN home page) The High Performance Wireless Research and Education Network (HPWREN), a University of California San Diego partnership project led by the San Diego Supercomputer Center and the Scripps Institution of Oceanography's Institute of Geophysics and Planetary Physics, supports Internet-data applications in the research, education, and public safety realms.\n",
    "- Note: permission for data use granted from the HPWREN/WIFIRE project. \n",
    "\n",
    "\n",
    "Dataset Name: Google Trends\n",
    "\n",
    "- Link to the dataset: trends.google.com\n",
    "- Number of observations: Weekly search statistics on different music genres going back to 2008. \n",
    "- Description: (From the Wikipedia page for Google Trends) Google Trends is a public web facility of Google Inc., based on Google Search, that shows how often a particular search-term is entered relative to the total search-volume across various regions of the world, and in various languages.\n",
    "\n",
    "\n",
    "Combining Data: we're planning to correlate weather data from the HPWREN/WOrDS database to the Google Trends results for different music genres, in hopes that we'll find interesting patterns or contingencies between the two. "
   ]
  },
  {
   "cell_type": "markdown",
   "metadata": {},
   "source": [
    "### Background & Prior Work\n",
    "\n",
    "Why is this question of interest, what background information led you to your hypothesis, and why is this important?\n",
    "\n",
    "Find some relevant prior work, and reference them. Even if you think you have a totally novel question, find the most similar prior work you can, and discuss how it relates to your project. \n",
    "\n",
    "References can be research publications, but they need not be: blogs, github repositories, company websites, etc., are viable references if they are relevant to your project.\n",
    "\n",
    "(2-3 paragraphs, including at least 2 references)"
   ]
  },
  {
   "cell_type": "markdown",
   "metadata": {},
   "source": [
    "Referencess:\n",
    "\n",
    "- 1) InCarMusic: Context-Aware Music Recommendations in a Car (http://link.springer.com/chapter/10.1007%2F978-3-642-23014-1_8). This paper studies possible correlations between multiple factors and preferred music genres. \n",
    "\n",
    "- 2) A Context-Aware Music Recommendation System Using Fuzzy Bayesian Networks with Utility Theory (http://link.springer.com/chapter/10.1007%2F11881599_121). This paper describes a context-aware music recommendation system, and the sources/methods used here may be helpful to our project. We will, however, definitely avoid using any sort of Bayesian algorithms. "
   ]
  },
  {
   "cell_type": "markdown",
   "metadata": {},
   "source": [
    "### Proposed Methods\n",
    "\n",
    "What methods will you use to analyze your data?\n",
    "\n",
    "- How 'clean' is the data? To the extent that it requires cleaning, how will you do so?\n",
    "- How will you analyze the data? Be as specific as you can. Briefly mention any pre-processing steps that are required for your methods (for example, checking data distributions and performing any transformations that may be required). Include a brief outline of how you will apply your chosen method(s). \n",
    "- What do you plan to report? Briefly mention any key visualizations you plan to create, and/or the kind of result you will be able to report that addresses your question (this could be, for example, the outcome of some statistical test(s), prediction error on a model, a model fit parameter, etc.).\n",
    "- Include a list of packages you expect to use for you project. If you plan to use packages we have not used in class, add a very brief description about them (a few words is sufficient). "
   ]
  },
  {
   "cell_type": "markdown",
   "metadata": {},
   "source": [
    "Data Cleaning\n",
    "\n",
    "- The HPWREN weaher database contain rows with nulls and erroneous data. We'll drop any rows with nulls, as well as identify and drop rows with errors. \n",
    "\n",
    "Data Analysis\n",
    "\n",
    "- Data from both datasets will be visualized. As weather data and google search trends are both recorded chronologically, we'll use line plots to visualize all relevant dimentions from both datasets. \n",
    "\n",
    "- We will then identify features in individual visualizations and attempt to find correlations. We will first compare all visualized data and try to 'eyeball it', so as to not miss important features; then, if time permits, we will run statistical analyses between interesting data subsets to find correlations. \n",
    "\n",
    "What to report\n",
    "\n",
    "- Relevant individual visualizations\n",
    "- Scatterplots, if strong correlations are found between data subsets\n",
    "- Relevant results from statistical analyses\n",
    "\n",
    "Packages we plan to use:\n",
    "\n",
    "- pandas: for importing dataframes and performing genral operations\n",
    "- numpy: for possible mathematical operations\n",
    "- matplotlib: visualization\n",
    "- sklearn: modeling "
   ]
  },
  {
   "cell_type": "markdown",
   "metadata": {},
   "source": [
    "### Discussion\n",
    "\n",
    "What are the pitfalls and potential confounds of your data and/or methods? For example, how might biases in your data sources or analyses influence your interpretations? What will you do if you methods don't work and/or your hypotheses are wrong?\n",
    "\n",
    "(2-3 paragraphs)"
   ]
  },
  {
   "cell_type": "markdown",
   "metadata": {},
   "source": [
    "*Fill in your discussion information here*"
   ]
  }
 ],
 "metadata": {
  "kernelspec": {
   "display_name": "Python 3",
   "language": "python",
   "name": "python3"
  },
  "language_info": {
   "codemirror_mode": {
    "name": "ipython",
    "version": 3
   },
   "file_extension": ".py",
   "mimetype": "text/x-python",
   "name": "python",
   "nbconvert_exporter": "python",
   "pygments_lexer": "ipython3",
   "version": "3.6.0"
  }
 },
 "nbformat": 4,
 "nbformat_minor": 2
}
